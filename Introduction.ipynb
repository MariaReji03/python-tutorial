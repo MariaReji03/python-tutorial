{
 "cells": [
  {
   "cell_type": "markdown",
   "id": "4b8a5cfe-1ba4-4a94-9671-742b1c431940",
   "metadata": {},
   "source": [
    "# Introduction to Python"
   ]
  },
  {
   "cell_type": "markdown",
   "id": "da3445ba-72af-4f84-a827-6c3aa7081600",
   "metadata": {},
   "source": [
    "This tutorial uses Jupyter notebook as an interactive platform to introduce some basic computational concepts and execute them using the python coding language.  \n",
    "\n",
    "Computation is an extremely important part of physics and engineering. We use computation to simulate systems, to predict the outcome of experiments, analyse data etc."
   ]
  },
  {
   "cell_type": "markdown",
   "id": "d6d20a61-509a-4982-85ba-f70bf0110a89",
   "metadata": {},
   "source": [
    "### Why python?  \n",
    "Python has recently become the most [widely-used](https://www.tiobe.com/tiobe-index/) programming language. Python uses simple syntax and is flexible to use. Plus, there is a big community of fellow Python users and open-source libraries which we can build upon!"
   ]
  },
  {
   "cell_type": "markdown",
   "id": "a29b583c-fffc-4b09-a6f9-3c4a1f240955",
   "metadata": {},
   "source": [
    "## Types of Cells"
   ]
  },
  {
   "cell_type": "markdown",
   "id": "01130777-3e9e-4d6e-bf9d-bdd2faa37168",
   "metadata": {},
   "source": [
    "There are 2 main types of cells in jupyter notebook  \n",
    "1. Code cell: for running code snippets, e.g. python code\n",
    "2. Markdown cell: for displaying formatted text and media assets"
   ]
  },
  {
   "cell_type": "code",
   "execution_count": null,
   "id": "8d26b2e4-1705-4e96-bdd6-da650ab5fd36",
   "metadata": {},
   "outputs": [],
   "source": []
  },
  {
   "cell_type": "code",
   "execution_count": null,
   "id": "283e991d-e7b2-439e-a483-2fd3139cba5a",
   "metadata": {},
   "outputs": [],
   "source": []
  },
  {
   "cell_type": "markdown",
   "id": "d011cca0-eae4-4c23-9cdd-71dca92cd7c1",
   "metadata": {},
   "source": [
    "## Shorthands"
   ]
  },
  {
   "cell_type": "markdown",
   "id": "983dde6e-07d5-446b-9bdb-5ad81e61ec05",
   "metadata": {},
   "source": [
    "### Command/edit mode  \n",
    "\n",
    "Esc : switches edit mode to command mode / click the left border  \n",
    "Enter : switches command mode to edit mode / click the text area\n",
    "\n",
    "### Add/Delete cell  \n",
    "\n",
    "a : add a cell above  \n",
    "b : add a cell below  \n",
    "dd : delete cell  \n",
    "\n",
    "### Run cell  \n",
    "\n",
    "Press Ctrl+Enter: Run selected cells  \n",
    "Press Shift+Enter: Run cell, select below  \n",
    "Press Alt+Enter: Run cell and insert a cell below  \n",
    "\n",
    "### Move cell\n",
    "\n",
    "up and down arrow buttons  \n",
    "\n"
   ]
  },
  {
   "cell_type": "markdown",
   "id": "b5c88354-d4a8-4303-8161-8b73b32dbae0",
   "metadata": {},
   "source": [
    "## Restarting kernel"
   ]
  },
  {
   "cell_type": "code",
   "execution_count": null,
   "id": "9d83bc5d-a0cf-42c3-97ba-74e9c86d002f",
   "metadata": {},
   "outputs": [],
   "source": []
  },
  {
   "cell_type": "code",
   "execution_count": null,
   "id": "a4d8b67f-ba01-42d8-a205-cd7e1e2b9e87",
   "metadata": {},
   "outputs": [],
   "source": []
  },
  {
   "cell_type": "markdown",
   "id": "1d541ef0-fb0d-41ba-b3e4-b308b9fa39bd",
   "metadata": {},
   "source": [
    "## Variables and Mathematical Operations"
   ]
  },
  {
   "cell_type": "code",
   "execution_count": null,
   "id": "16b3ab72-e0da-48a1-9e98-3c8c335507d9",
   "metadata": {},
   "outputs": [],
   "source": []
  },
  {
   "cell_type": "code",
   "execution_count": null,
   "id": "5452705d-da9f-4948-84d2-8148a6ad7686",
   "metadata": {},
   "outputs": [],
   "source": []
  },
  {
   "cell_type": "code",
   "execution_count": null,
   "id": "08a819f8-8411-4cfb-9112-27765b8a28e1",
   "metadata": {},
   "outputs": [],
   "source": []
  },
  {
   "cell_type": "markdown",
   "id": "41f29e34-7e0c-47d8-b0fe-e53224baa5af",
   "metadata": {},
   "source": [
    "We can use Python to do a lot more than just define variables. It can do all sorts of math. If we execute these cells, we'll see the solution in the output of each cell based on the variable assigned to a.  \n",
    "\n",
    "For reference, the following symbols can be used to do basic mathematical operations in Python\n",
    "\n",
    "* \\* is used for multiplication\n",
    "* \\+ is used for addition\n",
    "* \\- is used for subtraction\n",
    "* / is used for division\n",
    "* ** is used for exponents"
   ]
  },
  {
   "cell_type": "code",
   "execution_count": null,
   "id": "6108ff74-0b18-48ba-a0f9-8765ed1eae30",
   "metadata": {},
   "outputs": [],
   "source": []
  },
  {
   "cell_type": "code",
   "execution_count": null,
   "id": "2ba293c5-a509-4b2a-89e9-802f5f5bd210",
   "metadata": {},
   "outputs": [],
   "source": []
  },
  {
   "cell_type": "code",
   "execution_count": null,
   "id": "8d7497c0-510c-4ea0-9ea6-e085d582bc06",
   "metadata": {},
   "outputs": [],
   "source": []
  },
  {
   "cell_type": "code",
   "execution_count": null,
   "id": "51241a75-92aa-493d-a0e3-465f66b302ea",
   "metadata": {},
   "outputs": [],
   "source": []
  },
  {
   "cell_type": "markdown",
   "id": "9d84b26c-7f21-4c05-8154-17d11ce2f278",
   "metadata": {},
   "source": [
    "## Packages"
   ]
  },
  {
   "cell_type": "markdown",
   "id": "cc8a7ce9-0370-48c2-bdea-82c7893888ee",
   "metadata": {},
   "source": [
    "A module is a group of functions or objects that have some similarity. For example useful mathematical functions like sqrt(), exp(),sin(),cos() etc. are stored in the Python core library math module.  \n",
    "\n",
    "To import a package, we start a line with an import statement"
   ]
  },
  {
   "cell_type": "markdown",
   "id": "d50c655a-01bb-435e-a6e6-e4c394a2b916",
   "metadata": {},
   "source": [
    "### math module"
   ]
  },
  {
   "cell_type": "code",
   "execution_count": null,
   "id": "9bcb716f-dd02-4fe9-9a52-3ba632c49422",
   "metadata": {},
   "outputs": [],
   "source": []
  },
  {
   "cell_type": "markdown",
   "id": "a01c7d02-e796-4762-b0ed-0e910f49e59b",
   "metadata": {},
   "source": [
    "### numpy"
   ]
  },
  {
   "cell_type": "code",
   "execution_count": null,
   "id": "23e64b0f-5886-40b4-8f2f-c8a04a264e4f",
   "metadata": {},
   "outputs": [],
   "source": []
  },
  {
   "cell_type": "markdown",
   "id": "e80f660e-d9a6-4196-ab94-ddce740eba25",
   "metadata": {},
   "source": [
    "Above I've imported the numpy library and given it a nickname, called np. Then whenever I want to call a module or function from numpy, I have a shorthand I can refer to to make things easier.  \n",
    "\n",
    "NumPy is used to work with arrays. The array object in NumPy is called ndarray.  \n",
    "We can create a NumPy ndarray object by using the array() function."
   ]
  },
  {
   "cell_type": "code",
   "execution_count": null,
   "id": "06fe39ef-5f94-4741-bcb3-58ff0257c255",
   "metadata": {},
   "outputs": [],
   "source": []
  },
  {
   "cell_type": "markdown",
   "id": "a5f91b41-dacf-47ec-b6fa-d8695914cf24",
   "metadata": {},
   "source": [
    "### matplotlib"
   ]
  },
  {
   "cell_type": "code",
   "execution_count": null,
   "id": "ebe7e26d-a450-4138-9f5d-dd34036fb1eb",
   "metadata": {},
   "outputs": [],
   "source": []
  },
  {
   "cell_type": "code",
   "execution_count": null,
   "id": "eec58e7d-0ffa-4f04-b5f7-acab61a34f0e",
   "metadata": {},
   "outputs": [],
   "source": [
    "\n"
   ]
  },
  {
   "cell_type": "markdown",
   "id": "0d51fd27-64fb-4bc5-85cf-66f69bf87bf9",
   "metadata": {},
   "source": [
    "## Data Types"
   ]
  },
  {
   "cell_type": "markdown",
   "id": "09e0b40a-c2d7-4022-8542-1d20d671b000",
   "metadata": {},
   "source": [
    "In the past few exercises we've used this notebook as a fancy calculator, but we can do a lot more. First, let's talk about data types. There are many basic data types in Python, and we'll cover just a few here. If you're interested, check out the [Python documentation](https://docs.python.org/3/library/stdtypes.html) for a complete overview of all data types.  \n",
    "\n",
    "In python, we can check what type of object we have. For example:"
   ]
  },
  {
   "cell_type": "code",
   "execution_count": 1,
   "id": "fc68a338-bf27-4f74-933d-c65d583cc7b8",
   "metadata": {},
   "outputs": [
    {
     "data": {
      "text/plain": [
       "str"
      ]
     },
     "execution_count": 1,
     "metadata": {},
     "output_type": "execute_result"
    }
   ],
   "source": [
    "a=\"Hi\"\n",
    "type(a)"
   ]
  },
  {
   "cell_type": "markdown",
   "id": "43caa0a0-46a8-4303-a4f7-68d7e9d6e78b",
   "metadata": {},
   "source": [
    "## Operators and Conditionals"
   ]
  },
  {
   "cell_type": "markdown",
   "id": "9190dff1-8b49-414b-af09-a264d049be42",
   "metadata": {},
   "source": [
    "Sometimes we need to perform operations on our data based on a condition. We can do this with comparison operators. Python has several that we can use regularly.  \n",
    "Comparison Operators:  \n",
    "\n",
    "* equal ==  \n",
    "* not equal != \n",
    "* greater than > \n",
    "* less than <\n",
    "* greater than or equal to >=\n",
    "* less than or equal to <="
   ]
  },
  {
   "cell_type": "code",
   "execution_count": 2,
   "id": "d70bc27a-ad36-4e60-9d16-be5fb1bfbd16",
   "metadata": {},
   "outputs": [
    {
     "data": {
      "text/plain": [
       "False"
      ]
     },
     "execution_count": 2,
     "metadata": {},
     "output_type": "execute_result"
    }
   ],
   "source": [
    "5<=3"
   ]
  },
  {
   "cell_type": "markdown",
   "id": "de35a523-522a-4316-934f-eb974ba6b692",
   "metadata": {},
   "source": [
    "Conditionals:\n",
    "\n",
    "* if .... else\n",
    "* while\n",
    "* for "
   ]
  },
  {
   "cell_type": "code",
   "execution_count": null,
   "id": "121cdd6c-3f57-4b24-bb63-c6bfe1600ff5",
   "metadata": {},
   "outputs": [],
   "source": []
  },
  {
   "cell_type": "code",
   "execution_count": null,
   "id": "1bcd9d11-18c2-4dd7-8f76-e0ebd49438e1",
   "metadata": {},
   "outputs": [],
   "source": []
  },
  {
   "cell_type": "code",
   "execution_count": null,
   "id": "4ed2bb37-ba93-4b4f-976e-381674593b3a",
   "metadata": {},
   "outputs": [],
   "source": []
  },
  {
   "cell_type": "markdown",
   "id": "b14c71a9-7526-43e5-9a2f-eaf9b81335c5",
   "metadata": {},
   "source": [
    "An if statement executes its code block at most once, whereas a while loop can execute its code block repeatedly as long as its condition remains true."
   ]
  },
  {
   "cell_type": "code",
   "execution_count": null,
   "id": "7e7cf2d3-2bf1-42b2-b6b3-320ddf823e53",
   "metadata": {},
   "outputs": [],
   "source": []
  },
  {
   "cell_type": "markdown",
   "id": "2ede93ab-7e86-4d57-8b0e-8763383aec28",
   "metadata": {},
   "source": [
    "Logical Operators:\n",
    "\n",
    "* and ( inclusion of both )\n",
    "* or ( one or other )\n",
    "* not ( cannot include ) "
   ]
  },
  {
   "cell_type": "code",
   "execution_count": 3,
   "id": "b25b1992-b4fc-48ed-b487-b5113c07540c",
   "metadata": {},
   "outputs": [
    {
     "data": {
      "text/plain": [
       "True"
      ]
     },
     "execution_count": 3,
     "metadata": {},
     "output_type": "execute_result"
    }
   ],
   "source": [
    "1 < 10 and 2 > 1 "
   ]
  },
  {
   "cell_type": "markdown",
   "id": "ddfb4691-e851-4088-97bf-e4c0f6b1dd7f",
   "metadata": {},
   "source": [
    "## Function Definitions"
   ]
  },
  {
   "cell_type": "markdown",
   "id": "8ef8904d-ece3-4572-a61b-b56c7ae90848",
   "metadata": {},
   "source": [
    "In the previous cells we've dealt with an object called a variable. We can also define our own functions that can use many variables and be used over and over again. Let's see what that looks like with a simple function that multiplies three numbers together."
   ]
  },
  {
   "cell_type": "markdown",
   "id": "87228b33-e3c5-4508-b61c-7c789516287f",
   "metadata": {},
   "source": [
    "## Extra Information"
   ]
  },
  {
   "cell_type": "markdown",
   "id": "d23f19e8-4484-4e83-8245-8f71c8a0e6d1",
   "metadata": {},
   "source": [
    "In the Python language there are a huge number of functions built in to help you write your programs. I recommend searching for them in the documentation to learn about how to use them. Some very common functions you will enounter are:\n",
    "\n",
    "type()  \n",
    "abs()  \n",
    "sum()  \n",
    "max()  \n",
    "len()  "
   ]
  },
  {
   "cell_type": "code",
   "execution_count": 8,
   "id": "96add4da-490f-4aa2-a08c-9704cdac52ff",
   "metadata": {},
   "outputs": [
    {
     "data": {
      "text/plain": [
       "3"
      ]
     },
     "execution_count": 8,
     "metadata": {},
     "output_type": "execute_result"
    }
   ],
   "source": []
  }
 ],
 "metadata": {
  "kernelspec": {
   "display_name": "Python 3 (ipykernel)",
   "language": "python",
   "name": "python3"
  },
  "language_info": {
   "codemirror_mode": {
    "name": "ipython",
    "version": 3
   },
   "file_extension": ".py",
   "mimetype": "text/x-python",
   "name": "python",
   "nbconvert_exporter": "python",
   "pygments_lexer": "ipython3",
   "version": "3.9.6"
  }
 },
 "nbformat": 4,
 "nbformat_minor": 5
}
